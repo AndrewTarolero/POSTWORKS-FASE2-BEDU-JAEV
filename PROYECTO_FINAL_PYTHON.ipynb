{
  "nbformat": 4,
  "nbformat_minor": 0,
  "metadata": {
    "colab": {
      "name": " PROYECTO_FINAL_PYTHON.ipynb",
      "provenance": [],
      "collapsed_sections": [],
      "include_colab_link": true
    },
    "kernelspec": {
      "name": "python3",
      "display_name": "Python 3"
    }
  },
  "cells": [
    {
      "cell_type": "markdown",
      "metadata": {
        "id": "view-in-github",
        "colab_type": "text"
      },
      "source": [
        "<a href=\"https://colab.research.google.com/github/AndrewTarolero/POSTWORKS-FASE2-BEDU-JAEV/blob/main/PROYECTO_FINAL_PYTHON.ipynb\" target=\"_parent\"><img src=\"https://colab.research.google.com/assets/colab-badge.svg\" alt=\"Open In Colab\"/></a>"
      ]
    },
    {
      "cell_type": "markdown",
      "metadata": {
        "id": "82-uOHmkFCDO"
      },
      "source": [
        "# <font color=orange>_**Vacunación contra COVID-19**_</font>\r\n",
        "## *Equipo 22*\r\n",
        "* Echeveste Vázquez, José Andrés\r\n",
        "* Medina García, Flor de María\r\n",
        "\r\n",
        "##*Introducción:* \r\n",
        "El presente proyecto está dirigido con el fin de mostrar análisis elaborado con la aplicación de conocimientos adquiridos durante el curso de _Procesamiento de datos con Python_.\r\n",
        "\r\n",
        "El tema que elegimos es **Vacunación contra COVID-19**, con información recolectada diariamente a nivel mundial sobre el proceso. Éste tema fue de nuestro interés ya que es de gran impacto en la actualidad."
      ]
    },
    {
      "cell_type": "markdown",
      "metadata": {
        "id": "ZTf_7u6gWr5D"
      },
      "source": [
        "# <font color=orange>Identificación del problema(Postwork 1)</font>"
      ]
    },
    {
      "cell_type": "markdown",
      "metadata": {
        "id": "A8lmjIIkZHTB"
      },
      "source": [
        "##*Identificación de un problema.*\r\n",
        "\r\n",
        "Analizar la información de países clave con respecto a la aplicación de vacunas contra Covid-19  \r\n",
        "\r\n",
        "##*Investigación* \r\n",
        "\r\n",
        "La investigación se realiza con información de utilidad proporcionada en internet por colaboradores y herramientas estructuradas (como Our World In Data y GitHub) que permiten un monitoreo tanto del proceso como del progreso, lo que nos permite tener información útil, disponible y actualizada continuamente.\r\n",
        "\r\n",
        "##*Búsqueda de soluciones anteriores*\r\n",
        "\r\n",
        "Al ser una pandemia en la actualidad y sin precedentes, nos enfrentamos a nuevos retos para encontrar soluciones y medidas para disminuir los impactos sociales, económicos y en la salud, como es el caso de la vacunación.\r\n",
        "\r\n",
        "Es muy probable que, como en ocasiones anteriores, la combinación de medidas como campañas de salud, nuevos tratamientos además de la vacuna puedan finalizar con esta crisis sanitaria. Sin embargo, puede recordarse también que, al día de hoy seguimos conviviendo con infecciones que aquejaron el mundo en el pasado.\r\n"
      ]
    },
    {
      "cell_type": "markdown",
      "metadata": {
        "id": "mPw_lEvjZYrq"
      },
      "source": [
        "# <font color=orange>Planteamiento de preguntas(Postwork 2)</font>"
      ]
    },
    {
      "cell_type": "markdown",
      "metadata": {
        "id": "34LDB4SCZtZD"
      },
      "source": [
        "* ¿Qué países han adquirido más vacunas por continente?\r\n",
        "* ¿Qué país administra más dosis en un día por continente?\r\n",
        "* ¿Cuál(es) es la marca de vacunas más distribuida por continente?\r\n",
        "* ¿Cuál es la proporción de personas completamente vacunadas por país?\r\n",
        "* ¿Cual es la proporción de personas vacunadas con al menos una dosis por país?\r\n",
        "* ¿Qué países tienen el mayor porcentaje de vacunación con respecto al tamaño de su población?\r\n",
        "* Cúal es la cantidad total de gente completamente vacunada en el mundo?\r\n",
        "* ¿Qué cantidad de personas a nivel mundial  han recibido al menos una dosis de la vacuna?\r\n",
        "* Dosis de la vacuna administrada por cada 100 personas \r\n"
      ]
    },
    {
      "cell_type": "markdown",
      "metadata": {
        "id": "eMEyqAkca_dV"
      },
      "source": [
        "# <font color=orange>Colección de datos(Postwork 3)</font>"
      ]
    },
    {
      "cell_type": "markdown",
      "metadata": {
        "id": "V_6giXanbH7c"
      },
      "source": [
        "Nuestros datos provienen de OWID.\r\n",
        "\r\n",
        "“OWiD fue creado por el economista Max Roser en 2011 y abierto al público en la plataforma virtual en 2013. El objetivo principal del programa es promover el conocimiento de los grandes problemas globales por medio de la oferta de diferentes tipos de materiales seleccionados a partir de distintas fuentes especializadas. Para alcanzar este objetivo, además de su creador y director del programa, el proyecto está integrado por un equipo multidisciplinar de especialistas, recibe colaboraciones de investigadores de la Universidad de Oxford y está conectado a otros programas tales como el Global Change Data Lab y el Oxford Martin Programme on Global Development.” \r\n",
        "\r\n",
        "(Hypotheses. (15 de 12 de 2020). Obtenido de Blog de la Biblioteca de El Colegio de México: https://bdcv.hypotheses.org/3480)\r\n"
      ]
    },
    {
      "cell_type": "markdown",
      "metadata": {
        "id": "d9Y25zswEPXV"
      },
      "source": [
        "# <font color=orange>Análisis y exploración del dataset (Postwork 4)</font>"
      ]
    },
    {
      "cell_type": "markdown",
      "metadata": {
        "id": "gGHTRzJTHoVK"
      },
      "source": [
        "## 1. ¿El conjunto de datos que tengo realmente me sirve para responder algunas de las preguntas que me planteé?"
      ]
    },
    {
      "cell_type": "code",
      "metadata": {
        "id": "yp0crj1mBiGz"
      },
      "source": [
        "import pandas as pd\r\n",
        "vac = pd.read_csv('https://raw.githubusercontent.com/AndrewTarolero/PROYECTO_FINAL_PYTHON/main/country_vaccinations.csv', sep=',')\r\n",
        "\r\n"
      ],
      "execution_count": 119,
      "outputs": []
    },
    {
      "cell_type": "code",
      "metadata": {
        "colab": {
          "base_uri": "https://localhost:8080/",
          "height": 609
        },
        "id": "SCkXCvXCZllg",
        "outputId": "31bc7304-791e-4ed4-edb9-a4de57476620"
      },
      "source": [
        "vac\r\n"
      ],
      "execution_count": 120,
      "outputs": [
        {
          "output_type": "execute_result",
          "data": {
            "text/html": [
              "<div>\n",
              "<style scoped>\n",
              "    .dataframe tbody tr th:only-of-type {\n",
              "        vertical-align: middle;\n",
              "    }\n",
              "\n",
              "    .dataframe tbody tr th {\n",
              "        vertical-align: top;\n",
              "    }\n",
              "\n",
              "    .dataframe thead th {\n",
              "        text-align: right;\n",
              "    }\n",
              "</style>\n",
              "<table border=\"1\" class=\"dataframe\">\n",
              "  <thead>\n",
              "    <tr style=\"text-align: right;\">\n",
              "      <th></th>\n",
              "      <th>country</th>\n",
              "      <th>continent</th>\n",
              "      <th>iso_code</th>\n",
              "      <th>date</th>\n",
              "      <th>total_vaccinations</th>\n",
              "      <th>people_vaccinated</th>\n",
              "      <th>people_fully_vaccinated</th>\n",
              "      <th>daily_vaccinations_raw</th>\n",
              "      <th>daily_vaccinations</th>\n",
              "      <th>total_vaccinations_per_hundred</th>\n",
              "      <th>people_vaccinated_per_hundred</th>\n",
              "      <th>people_fully_vaccinated_per_hundred</th>\n",
              "      <th>daily_vaccinations_per_million</th>\n",
              "      <th>vaccines</th>\n",
              "      <th>source_name</th>\n",
              "      <th>source_website</th>\n",
              "    </tr>\n",
              "  </thead>\n",
              "  <tbody>\n",
              "    <tr>\n",
              "      <th>0</th>\n",
              "      <td>Albania</td>\n",
              "      <td>Europe</td>\n",
              "      <td>ALB</td>\n",
              "      <td>10/01/2021</td>\n",
              "      <td>0.0</td>\n",
              "      <td>0.0</td>\n",
              "      <td>NaN</td>\n",
              "      <td>NaN</td>\n",
              "      <td>NaN</td>\n",
              "      <td>0.00</td>\n",
              "      <td>0.00</td>\n",
              "      <td>NaN</td>\n",
              "      <td>NaN</td>\n",
              "      <td>Pfizer/BioNTech</td>\n",
              "      <td>Ministry of Health</td>\n",
              "      <td>https://shendetesia.gov.al/covid19-ministria-e...</td>\n",
              "    </tr>\n",
              "    <tr>\n",
              "      <th>1</th>\n",
              "      <td>Albania</td>\n",
              "      <td>Europe</td>\n",
              "      <td>ALB</td>\n",
              "      <td>11/01/2021</td>\n",
              "      <td>NaN</td>\n",
              "      <td>NaN</td>\n",
              "      <td>NaN</td>\n",
              "      <td>NaN</td>\n",
              "      <td>64.0</td>\n",
              "      <td>NaN</td>\n",
              "      <td>NaN</td>\n",
              "      <td>NaN</td>\n",
              "      <td>22.0</td>\n",
              "      <td>Pfizer/BioNTech</td>\n",
              "      <td>Ministry of Health</td>\n",
              "      <td>https://shendetesia.gov.al/covid19-ministria-e...</td>\n",
              "    </tr>\n",
              "    <tr>\n",
              "      <th>2</th>\n",
              "      <td>Albania</td>\n",
              "      <td>Europe</td>\n",
              "      <td>ALB</td>\n",
              "      <td>12/01/2021</td>\n",
              "      <td>128.0</td>\n",
              "      <td>128.0</td>\n",
              "      <td>NaN</td>\n",
              "      <td>NaN</td>\n",
              "      <td>64.0</td>\n",
              "      <td>0.00</td>\n",
              "      <td>0.00</td>\n",
              "      <td>NaN</td>\n",
              "      <td>22.0</td>\n",
              "      <td>Pfizer/BioNTech</td>\n",
              "      <td>Ministry of Health</td>\n",
              "      <td>https://shendetesia.gov.al/covid19-ministria-e...</td>\n",
              "    </tr>\n",
              "    <tr>\n",
              "      <th>3</th>\n",
              "      <td>Albania</td>\n",
              "      <td>Europe</td>\n",
              "      <td>ALB</td>\n",
              "      <td>13/01/2021</td>\n",
              "      <td>188.0</td>\n",
              "      <td>188.0</td>\n",
              "      <td>NaN</td>\n",
              "      <td>60.0</td>\n",
              "      <td>63.0</td>\n",
              "      <td>0.01</td>\n",
              "      <td>0.01</td>\n",
              "      <td>NaN</td>\n",
              "      <td>22.0</td>\n",
              "      <td>Pfizer/BioNTech</td>\n",
              "      <td>Ministry of Health</td>\n",
              "      <td>https://shendetesia.gov.al/covid19-ministria-e...</td>\n",
              "    </tr>\n",
              "    <tr>\n",
              "      <th>4</th>\n",
              "      <td>Albania</td>\n",
              "      <td>Europe</td>\n",
              "      <td>ALB</td>\n",
              "      <td>14/01/2021</td>\n",
              "      <td>266.0</td>\n",
              "      <td>266.0</td>\n",
              "      <td>NaN</td>\n",
              "      <td>78.0</td>\n",
              "      <td>66.0</td>\n",
              "      <td>0.01</td>\n",
              "      <td>0.01</td>\n",
              "      <td>NaN</td>\n",
              "      <td>23.0</td>\n",
              "      <td>Pfizer/BioNTech</td>\n",
              "      <td>Ministry of Health</td>\n",
              "      <td>https://shendetesia.gov.al/covid19-ministria-e...</td>\n",
              "    </tr>\n",
              "    <tr>\n",
              "      <th>...</th>\n",
              "      <td>...</td>\n",
              "      <td>...</td>\n",
              "      <td>...</td>\n",
              "      <td>...</td>\n",
              "      <td>...</td>\n",
              "      <td>...</td>\n",
              "      <td>...</td>\n",
              "      <td>...</td>\n",
              "      <td>...</td>\n",
              "      <td>...</td>\n",
              "      <td>...</td>\n",
              "      <td>...</td>\n",
              "      <td>...</td>\n",
              "      <td>...</td>\n",
              "      <td>...</td>\n",
              "      <td>...</td>\n",
              "    </tr>\n",
              "    <tr>\n",
              "      <th>4430</th>\n",
              "      <td>Zimbabwe</td>\n",
              "      <td>Africa</td>\n",
              "      <td>ZWE</td>\n",
              "      <td>23/02/2021</td>\n",
              "      <td>4041.0</td>\n",
              "      <td>4041.0</td>\n",
              "      <td>NaN</td>\n",
              "      <td>2727.0</td>\n",
              "      <td>808.0</td>\n",
              "      <td>0.03</td>\n",
              "      <td>0.03</td>\n",
              "      <td>NaN</td>\n",
              "      <td>54.0</td>\n",
              "      <td>Sinopharm/Beijing</td>\n",
              "      <td>Ministry of Health</td>\n",
              "      <td>https://twitter.com/MoHCCZim/status/1365740267...</td>\n",
              "    </tr>\n",
              "    <tr>\n",
              "      <th>4431</th>\n",
              "      <td>Zimbabwe</td>\n",
              "      <td>Africa</td>\n",
              "      <td>ZWE</td>\n",
              "      <td>24/02/2021</td>\n",
              "      <td>7872.0</td>\n",
              "      <td>7872.0</td>\n",
              "      <td>NaN</td>\n",
              "      <td>3831.0</td>\n",
              "      <td>1312.0</td>\n",
              "      <td>0.05</td>\n",
              "      <td>0.05</td>\n",
              "      <td>NaN</td>\n",
              "      <td>88.0</td>\n",
              "      <td>Sinopharm/Beijing</td>\n",
              "      <td>Ministry of Health</td>\n",
              "      <td>https://twitter.com/MoHCCZim/status/1365740267...</td>\n",
              "    </tr>\n",
              "    <tr>\n",
              "      <th>4432</th>\n",
              "      <td>Zimbabwe</td>\n",
              "      <td>Africa</td>\n",
              "      <td>ZWE</td>\n",
              "      <td>25/02/2021</td>\n",
              "      <td>11007.0</td>\n",
              "      <td>11007.0</td>\n",
              "      <td>NaN</td>\n",
              "      <td>3135.0</td>\n",
              "      <td>1572.0</td>\n",
              "      <td>0.07</td>\n",
              "      <td>0.07</td>\n",
              "      <td>NaN</td>\n",
              "      <td>106.0</td>\n",
              "      <td>Sinopharm/Beijing</td>\n",
              "      <td>Ministry of Health</td>\n",
              "      <td>https://twitter.com/MoHCCZim/status/1365740267...</td>\n",
              "    </tr>\n",
              "    <tr>\n",
              "      <th>4433</th>\n",
              "      <td>Zimbabwe</td>\n",
              "      <td>Africa</td>\n",
              "      <td>ZWE</td>\n",
              "      <td>26/02/2021</td>\n",
              "      <td>12579.0</td>\n",
              "      <td>12579.0</td>\n",
              "      <td>NaN</td>\n",
              "      <td>1572.0</td>\n",
              "      <td>1750.0</td>\n",
              "      <td>0.08</td>\n",
              "      <td>0.08</td>\n",
              "      <td>NaN</td>\n",
              "      <td>118.0</td>\n",
              "      <td>Sinopharm/Beijing</td>\n",
              "      <td>Ministry of Health</td>\n",
              "      <td>https://twitter.com/MoHCCZim/status/1365740267...</td>\n",
              "    </tr>\n",
              "    <tr>\n",
              "      <th>4434</th>\n",
              "      <td>Zimbabwe</td>\n",
              "      <td>Africa</td>\n",
              "      <td>ZWE</td>\n",
              "      <td>27/02/2021</td>\n",
              "      <td>15705.0</td>\n",
              "      <td>15705.0</td>\n",
              "      <td>NaN</td>\n",
              "      <td>3126.0</td>\n",
              "      <td>2150.0</td>\n",
              "      <td>0.11</td>\n",
              "      <td>0.11</td>\n",
              "      <td>NaN</td>\n",
              "      <td>145.0</td>\n",
              "      <td>Sinopharm/Beijing</td>\n",
              "      <td>Ministry of Health</td>\n",
              "      <td>https://twitter.com/MoHCCZim/status/1365740267...</td>\n",
              "    </tr>\n",
              "  </tbody>\n",
              "</table>\n",
              "<p>4435 rows × 16 columns</p>\n",
              "</div>"
            ],
            "text/plain": [
              "       country  ...                                     source_website\n",
              "0      Albania  ...  https://shendetesia.gov.al/covid19-ministria-e...\n",
              "1      Albania  ...  https://shendetesia.gov.al/covid19-ministria-e...\n",
              "2      Albania  ...  https://shendetesia.gov.al/covid19-ministria-e...\n",
              "3      Albania  ...  https://shendetesia.gov.al/covid19-ministria-e...\n",
              "4      Albania  ...  https://shendetesia.gov.al/covid19-ministria-e...\n",
              "...        ...  ...                                                ...\n",
              "4430  Zimbabwe  ...  https://twitter.com/MoHCCZim/status/1365740267...\n",
              "4431  Zimbabwe  ...  https://twitter.com/MoHCCZim/status/1365740267...\n",
              "4432  Zimbabwe  ...  https://twitter.com/MoHCCZim/status/1365740267...\n",
              "4433  Zimbabwe  ...  https://twitter.com/MoHCCZim/status/1365740267...\n",
              "4434  Zimbabwe  ...  https://twitter.com/MoHCCZim/status/1365740267...\n",
              "\n",
              "[4435 rows x 16 columns]"
            ]
          },
          "metadata": {
            "tags": []
          },
          "execution_count": 120
        }
      ]
    },
    {
      "cell_type": "markdown",
      "metadata": {
        "id": "hc_UBitfTch5"
      },
      "source": [
        "## 2. ¿Qué tamaño tiene mi conjunto de datos? ¿Serán datos suficientes?"
      ]
    },
    {
      "cell_type": "code",
      "metadata": {
        "colab": {
          "base_uri": "https://localhost:8080/"
        },
        "id": "DFQqUqwLG3e4",
        "outputId": "7dd7bf0b-c3bd-498a-a997-578df052846d"
      },
      "source": [
        "tamaño = vac.size \r\n",
        "forma = vac.shape \r\n",
        "dimensión = vac.ndim \r\n",
        "\r\n",
        "print(\"Tamaño = {}\\nForma = {}\\nForma[0] x Forma[1] = {}\". \r\n",
        "format(tamaño, forma, forma[0]*forma[1])) \r\n",
        " \r\n",
        "print(\"Dimensión = {}\". \r\n",
        "format(dimensión)) "
      ],
      "execution_count": 67,
      "outputs": [
        {
          "output_type": "stream",
          "text": [
            "Tamaño = 70960\n",
            "Forma = (4435, 16)\n",
            "Forma[0] x Forma[1] = 70960\n",
            "Dimensión = 2\n"
          ],
          "name": "stdout"
        }
      ]
    },
    {
      "cell_type": "markdown",
      "metadata": {
        "id": "7H84AL_nTlzT"
      },
      "source": [
        "## 3. ¿Qué columnas tengo y qué información tengo en cada una de esas columnas?"
      ]
    },
    {
      "cell_type": "code",
      "metadata": {
        "colab": {
          "base_uri": "https://localhost:8080/"
        },
        "id": "No9_eiwFJ1TE",
        "outputId": "68a5e0ae-253b-4dda-a9f5-24e643054353"
      },
      "source": [
        "vac.info()"
      ],
      "execution_count": 69,
      "outputs": [
        {
          "output_type": "stream",
          "text": [
            "<class 'pandas.core.frame.DataFrame'>\n",
            "RangeIndex: 4435 entries, 0 to 4434\n",
            "Data columns (total 16 columns):\n",
            " #   Column                               Non-Null Count  Dtype  \n",
            "---  ------                               --------------  -----  \n",
            " 0   country                              4435 non-null   object \n",
            " 1   continent                            4435 non-null   object \n",
            " 2   iso_code                             4131 non-null   object \n",
            " 3   date                                 4435 non-null   object \n",
            " 4   total_vaccinations                   2916 non-null   float64\n",
            " 5   people_vaccinated                    2483 non-null   float64\n",
            " 6   people_fully_vaccinated              1662 non-null   float64\n",
            " 7   daily_vaccinations_raw               2467 non-null   float64\n",
            " 8   daily_vaccinations                   4281 non-null   float64\n",
            " 9   total_vaccinations_per_hundred       2916 non-null   float64\n",
            " 10  people_vaccinated_per_hundred        2483 non-null   float64\n",
            " 11  people_fully_vaccinated_per_hundred  1662 non-null   float64\n",
            " 12  daily_vaccinations_per_million       4281 non-null   float64\n",
            " 13  vaccines                             4435 non-null   object \n",
            " 14  source_name                          4435 non-null   object \n",
            " 15  source_website                       4435 non-null   object \n",
            "dtypes: float64(9), object(7)\n",
            "memory usage: 554.5+ KB\n"
          ],
          "name": "stdout"
        }
      ]
    },
    {
      "cell_type": "markdown",
      "metadata": {
        "id": "iPvO6ov2Tvtl"
      },
      "source": [
        "## 4. Los nombres que tienen mis columnas, ¿son el nombre más apropiado?\r\n",
        "###Estos nombres son apropiados para este dataset, probablemente solo sea necesario eliminar algunas columnas más adelante."
      ]
    },
    {
      "cell_type": "code",
      "metadata": {
        "id": "Wfp3K5S4OVFy",
        "colab": {
          "base_uri": "https://localhost:8080/",
          "height": 309
        },
        "outputId": "7b73f955-4080-40c7-dff2-4727ebfd398d"
      },
      "source": [
        "vac.head()\r\n"
      ],
      "execution_count": 71,
      "outputs": [
        {
          "output_type": "execute_result",
          "data": {
            "text/html": [
              "<div>\n",
              "<style scoped>\n",
              "    .dataframe tbody tr th:only-of-type {\n",
              "        vertical-align: middle;\n",
              "    }\n",
              "\n",
              "    .dataframe tbody tr th {\n",
              "        vertical-align: top;\n",
              "    }\n",
              "\n",
              "    .dataframe thead th {\n",
              "        text-align: right;\n",
              "    }\n",
              "</style>\n",
              "<table border=\"1\" class=\"dataframe\">\n",
              "  <thead>\n",
              "    <tr style=\"text-align: right;\">\n",
              "      <th></th>\n",
              "      <th>country</th>\n",
              "      <th>continent</th>\n",
              "      <th>iso_code</th>\n",
              "      <th>date</th>\n",
              "      <th>total_vaccinations</th>\n",
              "      <th>people_vaccinated</th>\n",
              "      <th>people_fully_vaccinated</th>\n",
              "      <th>daily_vaccinations_raw</th>\n",
              "      <th>daily_vaccinations</th>\n",
              "      <th>total_vaccinations_per_hundred</th>\n",
              "      <th>people_vaccinated_per_hundred</th>\n",
              "      <th>people_fully_vaccinated_per_hundred</th>\n",
              "      <th>daily_vaccinations_per_million</th>\n",
              "      <th>vaccines</th>\n",
              "      <th>source_name</th>\n",
              "      <th>source_website</th>\n",
              "    </tr>\n",
              "  </thead>\n",
              "  <tbody>\n",
              "    <tr>\n",
              "      <th>0</th>\n",
              "      <td>Albania</td>\n",
              "      <td>Europe</td>\n",
              "      <td>ALB</td>\n",
              "      <td>10/01/2021</td>\n",
              "      <td>0.0</td>\n",
              "      <td>0.0</td>\n",
              "      <td>NaN</td>\n",
              "      <td>NaN</td>\n",
              "      <td>NaN</td>\n",
              "      <td>0.00</td>\n",
              "      <td>0.00</td>\n",
              "      <td>NaN</td>\n",
              "      <td>NaN</td>\n",
              "      <td>Pfizer/BioNTech</td>\n",
              "      <td>Ministry of Health</td>\n",
              "      <td>https://shendetesia.gov.al/covid19-ministria-e...</td>\n",
              "    </tr>\n",
              "    <tr>\n",
              "      <th>1</th>\n",
              "      <td>Albania</td>\n",
              "      <td>Europe</td>\n",
              "      <td>ALB</td>\n",
              "      <td>11/01/2021</td>\n",
              "      <td>NaN</td>\n",
              "      <td>NaN</td>\n",
              "      <td>NaN</td>\n",
              "      <td>NaN</td>\n",
              "      <td>64.0</td>\n",
              "      <td>NaN</td>\n",
              "      <td>NaN</td>\n",
              "      <td>NaN</td>\n",
              "      <td>22.0</td>\n",
              "      <td>Pfizer/BioNTech</td>\n",
              "      <td>Ministry of Health</td>\n",
              "      <td>https://shendetesia.gov.al/covid19-ministria-e...</td>\n",
              "    </tr>\n",
              "    <tr>\n",
              "      <th>2</th>\n",
              "      <td>Albania</td>\n",
              "      <td>Europe</td>\n",
              "      <td>ALB</td>\n",
              "      <td>12/01/2021</td>\n",
              "      <td>128.0</td>\n",
              "      <td>128.0</td>\n",
              "      <td>NaN</td>\n",
              "      <td>NaN</td>\n",
              "      <td>64.0</td>\n",
              "      <td>0.00</td>\n",
              "      <td>0.00</td>\n",
              "      <td>NaN</td>\n",
              "      <td>22.0</td>\n",
              "      <td>Pfizer/BioNTech</td>\n",
              "      <td>Ministry of Health</td>\n",
              "      <td>https://shendetesia.gov.al/covid19-ministria-e...</td>\n",
              "    </tr>\n",
              "    <tr>\n",
              "      <th>3</th>\n",
              "      <td>Albania</td>\n",
              "      <td>Europe</td>\n",
              "      <td>ALB</td>\n",
              "      <td>13/01/2021</td>\n",
              "      <td>188.0</td>\n",
              "      <td>188.0</td>\n",
              "      <td>NaN</td>\n",
              "      <td>60.0</td>\n",
              "      <td>63.0</td>\n",
              "      <td>0.01</td>\n",
              "      <td>0.01</td>\n",
              "      <td>NaN</td>\n",
              "      <td>22.0</td>\n",
              "      <td>Pfizer/BioNTech</td>\n",
              "      <td>Ministry of Health</td>\n",
              "      <td>https://shendetesia.gov.al/covid19-ministria-e...</td>\n",
              "    </tr>\n",
              "    <tr>\n",
              "      <th>4</th>\n",
              "      <td>Albania</td>\n",
              "      <td>Europe</td>\n",
              "      <td>ALB</td>\n",
              "      <td>14/01/2021</td>\n",
              "      <td>266.0</td>\n",
              "      <td>266.0</td>\n",
              "      <td>NaN</td>\n",
              "      <td>78.0</td>\n",
              "      <td>66.0</td>\n",
              "      <td>0.01</td>\n",
              "      <td>0.01</td>\n",
              "      <td>NaN</td>\n",
              "      <td>23.0</td>\n",
              "      <td>Pfizer/BioNTech</td>\n",
              "      <td>Ministry of Health</td>\n",
              "      <td>https://shendetesia.gov.al/covid19-ministria-e...</td>\n",
              "    </tr>\n",
              "  </tbody>\n",
              "</table>\n",
              "</div>"
            ],
            "text/plain": [
              "   country  ...                                     source_website\n",
              "0  Albania  ...  https://shendetesia.gov.al/covid19-ministria-e...\n",
              "1  Albania  ...  https://shendetesia.gov.al/covid19-ministria-e...\n",
              "2  Albania  ...  https://shendetesia.gov.al/covid19-ministria-e...\n",
              "3  Albania  ...  https://shendetesia.gov.al/covid19-ministria-e...\n",
              "4  Albania  ...  https://shendetesia.gov.al/covid19-ministria-e...\n",
              "\n",
              "[5 rows x 16 columns]"
            ]
          },
          "metadata": {
            "tags": []
          },
          "execution_count": 71
        }
      ]
    },
    {
      "cell_type": "markdown",
      "metadata": {
        "id": "_VKI2PsJT6dP"
      },
      "source": [
        "## 5. ¿Qué tipos de datos tengo en cada columna? ¿Parecen ser el tipo correcto de datos? ¿O es un tipo de datos \"incorrecto\"?\r\n",
        "###Hay algunos datos que es necesario cambiar a un tipo de diferente para tener un mejor manejo de nuestra información. Los tipos de datos a cambiar son los de nuestro conjunto de datos \"vac\" ya que los de \"pop\" se encuentran en orden\r\n"
      ]
    },
    {
      "cell_type": "code",
      "metadata": {
        "colab": {
          "base_uri": "https://localhost:8080/"
        },
        "id": "eI5UCTsePBW6",
        "outputId": "1d4099ce-c4e3-4bd5-93a4-85dae12672ec"
      },
      "source": [
        "vac.dtypes"
      ],
      "execution_count": 73,
      "outputs": [
        {
          "output_type": "execute_result",
          "data": {
            "text/plain": [
              "country                                 object\n",
              "continent                               object\n",
              "iso_code                                object\n",
              "date                                    object\n",
              "total_vaccinations                     float64\n",
              "people_vaccinated                      float64\n",
              "people_fully_vaccinated                float64\n",
              "daily_vaccinations_raw                 float64\n",
              "daily_vaccinations                     float64\n",
              "total_vaccinations_per_hundred         float64\n",
              "people_vaccinated_per_hundred          float64\n",
              "people_fully_vaccinated_per_hundred    float64\n",
              "daily_vaccinations_per_million         float64\n",
              "vaccines                                object\n",
              "source_name                             object\n",
              "source_website                          object\n",
              "dtype: object"
            ]
          },
          "metadata": {
            "tags": []
          },
          "execution_count": 73
        }
      ]
    },
    {
      "cell_type": "markdown",
      "metadata": {
        "id": "BEs1oyBQUDT3"
      },
      "source": [
        "## 6. Si selecciono algunas filas al azar y las observo, ¿estoy obteniendo los datos que debería? ¿o hay datos que parecen estar \"sucios\" o \"incorrectos\"?\r\n",
        "###Únicamente es necesario limpiar el dataset pero los datos obtenidos son los datos que se necesitan. La limpieza que se menciona es solo de los NaN"
      ]
    },
    {
      "cell_type": "code",
      "metadata": {
        "colab": {
          "base_uri": "https://localhost:8080/",
          "height": 309
        },
        "id": "eJ3pDH91PUaY",
        "outputId": "0ea32ca3-6847-4d3d-89f2-c74f50149d23"
      },
      "source": [
        "vac.iloc[100:105]"
      ],
      "execution_count": 121,
      "outputs": [
        {
          "output_type": "execute_result",
          "data": {
            "text/html": [
              "<div>\n",
              "<style scoped>\n",
              "    .dataframe tbody tr th:only-of-type {\n",
              "        vertical-align: middle;\n",
              "    }\n",
              "\n",
              "    .dataframe tbody tr th {\n",
              "        vertical-align: top;\n",
              "    }\n",
              "\n",
              "    .dataframe thead th {\n",
              "        text-align: right;\n",
              "    }\n",
              "</style>\n",
              "<table border=\"1\" class=\"dataframe\">\n",
              "  <thead>\n",
              "    <tr style=\"text-align: right;\">\n",
              "      <th></th>\n",
              "      <th>country</th>\n",
              "      <th>continent</th>\n",
              "      <th>iso_code</th>\n",
              "      <th>date</th>\n",
              "      <th>total_vaccinations</th>\n",
              "      <th>people_vaccinated</th>\n",
              "      <th>people_fully_vaccinated</th>\n",
              "      <th>daily_vaccinations_raw</th>\n",
              "      <th>daily_vaccinations</th>\n",
              "      <th>total_vaccinations_per_hundred</th>\n",
              "      <th>people_vaccinated_per_hundred</th>\n",
              "      <th>people_fully_vaccinated_per_hundred</th>\n",
              "      <th>daily_vaccinations_per_million</th>\n",
              "      <th>vaccines</th>\n",
              "      <th>source_name</th>\n",
              "      <th>source_website</th>\n",
              "    </tr>\n",
              "  </thead>\n",
              "  <tbody>\n",
              "    <tr>\n",
              "      <th>100</th>\n",
              "      <td>Anguilla</td>\n",
              "      <td>America</td>\n",
              "      <td>AIA</td>\n",
              "      <td>04/02/2021</td>\n",
              "      <td>0.0</td>\n",
              "      <td>0.0</td>\n",
              "      <td>NaN</td>\n",
              "      <td>NaN</td>\n",
              "      <td>NaN</td>\n",
              "      <td>0.0</td>\n",
              "      <td>0.0</td>\n",
              "      <td>NaN</td>\n",
              "      <td>NaN</td>\n",
              "      <td>Oxford/AstraZeneca</td>\n",
              "      <td>Ministry of Health</td>\n",
              "      <td>https://www.facebook.com/MinistryofHealthAngui...</td>\n",
              "    </tr>\n",
              "    <tr>\n",
              "      <th>101</th>\n",
              "      <td>Anguilla</td>\n",
              "      <td>America</td>\n",
              "      <td>AIA</td>\n",
              "      <td>05/02/2021</td>\n",
              "      <td>NaN</td>\n",
              "      <td>NaN</td>\n",
              "      <td>NaN</td>\n",
              "      <td>NaN</td>\n",
              "      <td>149.0</td>\n",
              "      <td>NaN</td>\n",
              "      <td>NaN</td>\n",
              "      <td>NaN</td>\n",
              "      <td>9932.0</td>\n",
              "      <td>Oxford/AstraZeneca</td>\n",
              "      <td>Ministry of Health</td>\n",
              "      <td>https://www.facebook.com/MinistryofHealthAngui...</td>\n",
              "    </tr>\n",
              "    <tr>\n",
              "      <th>102</th>\n",
              "      <td>Anguilla</td>\n",
              "      <td>America</td>\n",
              "      <td>AIA</td>\n",
              "      <td>06/02/2021</td>\n",
              "      <td>NaN</td>\n",
              "      <td>NaN</td>\n",
              "      <td>NaN</td>\n",
              "      <td>NaN</td>\n",
              "      <td>149.0</td>\n",
              "      <td>NaN</td>\n",
              "      <td>NaN</td>\n",
              "      <td>NaN</td>\n",
              "      <td>9932.0</td>\n",
              "      <td>Oxford/AstraZeneca</td>\n",
              "      <td>Ministry of Health</td>\n",
              "      <td>https://www.facebook.com/MinistryofHealthAngui...</td>\n",
              "    </tr>\n",
              "    <tr>\n",
              "      <th>103</th>\n",
              "      <td>Anguilla</td>\n",
              "      <td>America</td>\n",
              "      <td>AIA</td>\n",
              "      <td>07/02/2021</td>\n",
              "      <td>NaN</td>\n",
              "      <td>NaN</td>\n",
              "      <td>NaN</td>\n",
              "      <td>NaN</td>\n",
              "      <td>149.0</td>\n",
              "      <td>NaN</td>\n",
              "      <td>NaN</td>\n",
              "      <td>NaN</td>\n",
              "      <td>9932.0</td>\n",
              "      <td>Oxford/AstraZeneca</td>\n",
              "      <td>Ministry of Health</td>\n",
              "      <td>https://www.facebook.com/MinistryofHealthAngui...</td>\n",
              "    </tr>\n",
              "    <tr>\n",
              "      <th>104</th>\n",
              "      <td>Anguilla</td>\n",
              "      <td>America</td>\n",
              "      <td>AIA</td>\n",
              "      <td>08/02/2021</td>\n",
              "      <td>NaN</td>\n",
              "      <td>NaN</td>\n",
              "      <td>NaN</td>\n",
              "      <td>NaN</td>\n",
              "      <td>149.0</td>\n",
              "      <td>NaN</td>\n",
              "      <td>NaN</td>\n",
              "      <td>NaN</td>\n",
              "      <td>9932.0</td>\n",
              "      <td>Oxford/AstraZeneca</td>\n",
              "      <td>Ministry of Health</td>\n",
              "      <td>https://www.facebook.com/MinistryofHealthAngui...</td>\n",
              "    </tr>\n",
              "  </tbody>\n",
              "</table>\n",
              "</div>"
            ],
            "text/plain": [
              "      country  ...                                     source_website\n",
              "100  Anguilla  ...  https://www.facebook.com/MinistryofHealthAngui...\n",
              "101  Anguilla  ...  https://www.facebook.com/MinistryofHealthAngui...\n",
              "102  Anguilla  ...  https://www.facebook.com/MinistryofHealthAngui...\n",
              "103  Anguilla  ...  https://www.facebook.com/MinistryofHealthAngui...\n",
              "104  Anguilla  ...  https://www.facebook.com/MinistryofHealthAngui...\n",
              "\n",
              "[5 rows x 16 columns]"
            ]
          },
          "metadata": {
            "tags": []
          },
          "execution_count": 121
        }
      ]
    },
    {
      "cell_type": "markdown",
      "metadata": {
        "id": "SzLkwL6n4WmI"
      },
      "source": [
        "# <font color=orange>Limpieza y agregaciones (Postwork 5)</font>"
      ]
    },
    {
      "cell_type": "markdown",
      "metadata": {
        "id": "JtHnG-6TUR12"
      },
      "source": [
        "## 1. Explora tu dataset con el fin de encontrar los NaNs que contiene. Piensa en la distribución de NaNs por columna y por fila."
      ]
    },
    {
      "cell_type": "code",
      "metadata": {
        "id": "97ATMRKuWvb7",
        "colab": {
          "base_uri": "https://localhost:8080/"
        },
        "outputId": "01d90212-8651-46eb-9052-01b47dbc7715"
      },
      "source": [
        "vac.isna().sum()"
      ],
      "execution_count": 122,
      "outputs": [
        {
          "output_type": "execute_result",
          "data": {
            "text/plain": [
              "country                                   0\n",
              "continent                                 0\n",
              "iso_code                                304\n",
              "date                                      0\n",
              "total_vaccinations                     1519\n",
              "people_vaccinated                      1952\n",
              "people_fully_vaccinated                2773\n",
              "daily_vaccinations_raw                 1968\n",
              "daily_vaccinations                      154\n",
              "total_vaccinations_per_hundred         1519\n",
              "people_vaccinated_per_hundred          1952\n",
              "people_fully_vaccinated_per_hundred    2773\n",
              "daily_vaccinations_per_million          154\n",
              "vaccines                                  0\n",
              "source_name                               0\n",
              "source_website                            0\n",
              "dtype: int64"
            ]
          },
          "metadata": {
            "tags": []
          },
          "execution_count": 122
        }
      ]
    },
    {
      "cell_type": "markdown",
      "metadata": {
        "id": "pmBVFyFnUZnL"
      },
      "source": [
        "## 2.Piensa cuáles son los procedimientos que puedes aplicar a tus NaNs. \r\n",
        "###¿Tenemos que eliminar las filas/columnas que tienen esos NaNs? ¿O podríamos rellenar esos NaNs con algún valor de manera que podamos retener esas filas/columnas?\r\n",
        "  * Lo que haremos será eliminar las filas y columnas innecesarias y rellenar el resto de los NaN\r\n",
        "  * Elimino la columna iso_code, daily_vaccinations_raw, source_name, source_website ya que no serán utilizada para nuestro análisis\r\n",
        "  * Relleno las columnas que tienen NaN con valores de 0 ya que representa que en ese día no hubo actividad en algún proceso de la vacunación.\r\n",
        "  * Sin embargo es necesario mantenerlos porque las filas en las que estan estos NaN contienen columnas con información importante."
      ]
    },
    {
      "cell_type": "code",
      "metadata": {
        "id": "BAbZA4gr8Lrb",
        "colab": {
          "base_uri": "https://localhost:8080/",
          "height": 439
        },
        "outputId": "acd27e55-059c-449b-c558-0aff13d308d9"
      },
      "source": [
        "vac = vac.drop(columns=['iso_code', 'daily_vaccinations_raw', 'source_name', 'source_website'])\r\n",
        "\r\n",
        "vac = vac.fillna(0)\r\n",
        "\r\n",
        "vac"
      ],
      "execution_count": 123,
      "outputs": [
        {
          "output_type": "execute_result",
          "data": {
            "text/html": [
              "<div>\n",
              "<style scoped>\n",
              "    .dataframe tbody tr th:only-of-type {\n",
              "        vertical-align: middle;\n",
              "    }\n",
              "\n",
              "    .dataframe tbody tr th {\n",
              "        vertical-align: top;\n",
              "    }\n",
              "\n",
              "    .dataframe thead th {\n",
              "        text-align: right;\n",
              "    }\n",
              "</style>\n",
              "<table border=\"1\" class=\"dataframe\">\n",
              "  <thead>\n",
              "    <tr style=\"text-align: right;\">\n",
              "      <th></th>\n",
              "      <th>country</th>\n",
              "      <th>continent</th>\n",
              "      <th>date</th>\n",
              "      <th>total_vaccinations</th>\n",
              "      <th>people_vaccinated</th>\n",
              "      <th>people_fully_vaccinated</th>\n",
              "      <th>daily_vaccinations</th>\n",
              "      <th>total_vaccinations_per_hundred</th>\n",
              "      <th>people_vaccinated_per_hundred</th>\n",
              "      <th>people_fully_vaccinated_per_hundred</th>\n",
              "      <th>daily_vaccinations_per_million</th>\n",
              "      <th>vaccines</th>\n",
              "    </tr>\n",
              "  </thead>\n",
              "  <tbody>\n",
              "    <tr>\n",
              "      <th>0</th>\n",
              "      <td>Albania</td>\n",
              "      <td>Europe</td>\n",
              "      <td>10/01/2021</td>\n",
              "      <td>0.0</td>\n",
              "      <td>0.0</td>\n",
              "      <td>0.0</td>\n",
              "      <td>0.0</td>\n",
              "      <td>0.00</td>\n",
              "      <td>0.00</td>\n",
              "      <td>0.0</td>\n",
              "      <td>0.0</td>\n",
              "      <td>Pfizer/BioNTech</td>\n",
              "    </tr>\n",
              "    <tr>\n",
              "      <th>1</th>\n",
              "      <td>Albania</td>\n",
              "      <td>Europe</td>\n",
              "      <td>11/01/2021</td>\n",
              "      <td>0.0</td>\n",
              "      <td>0.0</td>\n",
              "      <td>0.0</td>\n",
              "      <td>64.0</td>\n",
              "      <td>0.00</td>\n",
              "      <td>0.00</td>\n",
              "      <td>0.0</td>\n",
              "      <td>22.0</td>\n",
              "      <td>Pfizer/BioNTech</td>\n",
              "    </tr>\n",
              "    <tr>\n",
              "      <th>2</th>\n",
              "      <td>Albania</td>\n",
              "      <td>Europe</td>\n",
              "      <td>12/01/2021</td>\n",
              "      <td>128.0</td>\n",
              "      <td>128.0</td>\n",
              "      <td>0.0</td>\n",
              "      <td>64.0</td>\n",
              "      <td>0.00</td>\n",
              "      <td>0.00</td>\n",
              "      <td>0.0</td>\n",
              "      <td>22.0</td>\n",
              "      <td>Pfizer/BioNTech</td>\n",
              "    </tr>\n",
              "    <tr>\n",
              "      <th>3</th>\n",
              "      <td>Albania</td>\n",
              "      <td>Europe</td>\n",
              "      <td>13/01/2021</td>\n",
              "      <td>188.0</td>\n",
              "      <td>188.0</td>\n",
              "      <td>0.0</td>\n",
              "      <td>63.0</td>\n",
              "      <td>0.01</td>\n",
              "      <td>0.01</td>\n",
              "      <td>0.0</td>\n",
              "      <td>22.0</td>\n",
              "      <td>Pfizer/BioNTech</td>\n",
              "    </tr>\n",
              "    <tr>\n",
              "      <th>4</th>\n",
              "      <td>Albania</td>\n",
              "      <td>Europe</td>\n",
              "      <td>14/01/2021</td>\n",
              "      <td>266.0</td>\n",
              "      <td>266.0</td>\n",
              "      <td>0.0</td>\n",
              "      <td>66.0</td>\n",
              "      <td>0.01</td>\n",
              "      <td>0.01</td>\n",
              "      <td>0.0</td>\n",
              "      <td>23.0</td>\n",
              "      <td>Pfizer/BioNTech</td>\n",
              "    </tr>\n",
              "    <tr>\n",
              "      <th>...</th>\n",
              "      <td>...</td>\n",
              "      <td>...</td>\n",
              "      <td>...</td>\n",
              "      <td>...</td>\n",
              "      <td>...</td>\n",
              "      <td>...</td>\n",
              "      <td>...</td>\n",
              "      <td>...</td>\n",
              "      <td>...</td>\n",
              "      <td>...</td>\n",
              "      <td>...</td>\n",
              "      <td>...</td>\n",
              "    </tr>\n",
              "    <tr>\n",
              "      <th>4430</th>\n",
              "      <td>Zimbabwe</td>\n",
              "      <td>Africa</td>\n",
              "      <td>23/02/2021</td>\n",
              "      <td>4041.0</td>\n",
              "      <td>4041.0</td>\n",
              "      <td>0.0</td>\n",
              "      <td>808.0</td>\n",
              "      <td>0.03</td>\n",
              "      <td>0.03</td>\n",
              "      <td>0.0</td>\n",
              "      <td>54.0</td>\n",
              "      <td>Sinopharm/Beijing</td>\n",
              "    </tr>\n",
              "    <tr>\n",
              "      <th>4431</th>\n",
              "      <td>Zimbabwe</td>\n",
              "      <td>Africa</td>\n",
              "      <td>24/02/2021</td>\n",
              "      <td>7872.0</td>\n",
              "      <td>7872.0</td>\n",
              "      <td>0.0</td>\n",
              "      <td>1312.0</td>\n",
              "      <td>0.05</td>\n",
              "      <td>0.05</td>\n",
              "      <td>0.0</td>\n",
              "      <td>88.0</td>\n",
              "      <td>Sinopharm/Beijing</td>\n",
              "    </tr>\n",
              "    <tr>\n",
              "      <th>4432</th>\n",
              "      <td>Zimbabwe</td>\n",
              "      <td>Africa</td>\n",
              "      <td>25/02/2021</td>\n",
              "      <td>11007.0</td>\n",
              "      <td>11007.0</td>\n",
              "      <td>0.0</td>\n",
              "      <td>1572.0</td>\n",
              "      <td>0.07</td>\n",
              "      <td>0.07</td>\n",
              "      <td>0.0</td>\n",
              "      <td>106.0</td>\n",
              "      <td>Sinopharm/Beijing</td>\n",
              "    </tr>\n",
              "    <tr>\n",
              "      <th>4433</th>\n",
              "      <td>Zimbabwe</td>\n",
              "      <td>Africa</td>\n",
              "      <td>26/02/2021</td>\n",
              "      <td>12579.0</td>\n",
              "      <td>12579.0</td>\n",
              "      <td>0.0</td>\n",
              "      <td>1750.0</td>\n",
              "      <td>0.08</td>\n",
              "      <td>0.08</td>\n",
              "      <td>0.0</td>\n",
              "      <td>118.0</td>\n",
              "      <td>Sinopharm/Beijing</td>\n",
              "    </tr>\n",
              "    <tr>\n",
              "      <th>4434</th>\n",
              "      <td>Zimbabwe</td>\n",
              "      <td>Africa</td>\n",
              "      <td>27/02/2021</td>\n",
              "      <td>15705.0</td>\n",
              "      <td>15705.0</td>\n",
              "      <td>0.0</td>\n",
              "      <td>2150.0</td>\n",
              "      <td>0.11</td>\n",
              "      <td>0.11</td>\n",
              "      <td>0.0</td>\n",
              "      <td>145.0</td>\n",
              "      <td>Sinopharm/Beijing</td>\n",
              "    </tr>\n",
              "  </tbody>\n",
              "</table>\n",
              "<p>4435 rows × 12 columns</p>\n",
              "</div>"
            ],
            "text/plain": [
              "       country continent  ... daily_vaccinations_per_million           vaccines\n",
              "0      Albania    Europe  ...                            0.0    Pfizer/BioNTech\n",
              "1      Albania    Europe  ...                           22.0    Pfizer/BioNTech\n",
              "2      Albania    Europe  ...                           22.0    Pfizer/BioNTech\n",
              "3      Albania    Europe  ...                           22.0    Pfizer/BioNTech\n",
              "4      Albania    Europe  ...                           23.0    Pfizer/BioNTech\n",
              "...        ...       ...  ...                            ...                ...\n",
              "4430  Zimbabwe    Africa  ...                           54.0  Sinopharm/Beijing\n",
              "4431  Zimbabwe    Africa  ...                           88.0  Sinopharm/Beijing\n",
              "4432  Zimbabwe    Africa  ...                          106.0  Sinopharm/Beijing\n",
              "4433  Zimbabwe    Africa  ...                          118.0  Sinopharm/Beijing\n",
              "4434  Zimbabwe    Africa  ...                          145.0  Sinopharm/Beijing\n",
              "\n",
              "[4435 rows x 12 columns]"
            ]
          },
          "metadata": {
            "tags": []
          },
          "execution_count": 123
        }
      ]
    },
    {
      "cell_type": "markdown",
      "metadata": {
        "id": "NjzHp5XNUwWX"
      },
      "source": [
        "Cambiaremos el tipo de dato de algunas columnas para pasarlos a números enteros más adelante."
      ]
    },
    {
      "cell_type": "code",
      "metadata": {
        "id": "IWYAXQKgbaOW"
      },
      "source": [
        "vac['total_vaccinations']=vac['total_vaccinations'].astype('int')\r\n",
        "vac['people_vaccinated']=vac['people_vaccinated'].astype('int')\r\n",
        "vac['people_fully_vaccinated']=vac['people_fully_vaccinated'].astype('int')\r\n",
        "vac['daily_vaccinations']=vac['daily_vaccinations'].astype('int')\r\n",
        "vac['daily_vaccinations_per_million']=vac['daily_vaccinations_per_million'].astype('int')"
      ],
      "execution_count": 124,
      "outputs": []
    },
    {
      "cell_type": "code",
      "metadata": {
        "id": "8AgCLZJt_z6P",
        "colab": {
          "base_uri": "https://localhost:8080/"
        },
        "outputId": "b8922f9e-8215-4d0b-df79-db820548e52e"
      },
      "source": [
        "vac.dtypes"
      ],
      "execution_count": 125,
      "outputs": [
        {
          "output_type": "execute_result",
          "data": {
            "text/plain": [
              "country                                 object\n",
              "continent                               object\n",
              "date                                    object\n",
              "total_vaccinations                       int64\n",
              "people_vaccinated                        int64\n",
              "people_fully_vaccinated                  int64\n",
              "daily_vaccinations                       int64\n",
              "total_vaccinations_per_hundred         float64\n",
              "people_vaccinated_per_hundred          float64\n",
              "people_fully_vaccinated_per_hundred    float64\n",
              "daily_vaccinations_per_million           int64\n",
              "vaccines                                object\n",
              "dtype: object"
            ]
          },
          "metadata": {
            "tags": []
          },
          "execution_count": 125
        }
      ]
    },
    {
      "cell_type": "markdown",
      "metadata": {
        "id": "MPhMePuxU2xo"
      },
      "source": [
        "## 3. Limpia tu dataset de manera que no quede ningún NaN."
      ]
    },
    {
      "cell_type": "code",
      "metadata": {
        "id": "qbyeZejCD_KA",
        "colab": {
          "base_uri": "https://localhost:8080/"
        },
        "outputId": "9345a12b-06cc-4418-e1dd-f45cca9a13cd"
      },
      "source": [
        "vac.isna().sum()"
      ],
      "execution_count": 126,
      "outputs": [
        {
          "output_type": "execute_result",
          "data": {
            "text/plain": [
              "country                                0\n",
              "continent                              0\n",
              "date                                   0\n",
              "total_vaccinations                     0\n",
              "people_vaccinated                      0\n",
              "people_fully_vaccinated                0\n",
              "daily_vaccinations                     0\n",
              "total_vaccinations_per_hundred         0\n",
              "people_vaccinated_per_hundred          0\n",
              "people_fully_vaccinated_per_hundred    0\n",
              "daily_vaccinations_per_million         0\n",
              "vaccines                               0\n",
              "dtype: int64"
            ]
          },
          "metadata": {
            "tags": []
          },
          "execution_count": 126
        }
      ]
    },
    {
      "cell_type": "markdown",
      "metadata": {
        "id": "TNP55MAZVBsK"
      },
      "source": [
        "## 4. Reindexa tu dataset si lo consideras necesario.\r\n",
        "###Este dataset no fue necesario reindexarlo ya que todo esta en orden, únicamente era necesario rellenar los NaN con ceros\r\n",
        "\r\n"
      ]
    },
    {
      "cell_type": "markdown",
      "metadata": {
        "id": "xPRhI6gybm7K"
      },
      "source": [
        "## 5. Renombra tus columnas si lo consideras necesario.\r\n",
        "### No fue necesario"
      ]
    },
    {
      "cell_type": "markdown",
      "metadata": {
        "id": "yA9x_l3_bjjF"
      },
      "source": [
        "## 6. Prueba aplicar agregaciones a tu DataFrame para ver si puedes empezar a responder algunas de las preguntas que te planteaste anteriormente. "
      ]
    },
    {
      "cell_type": "markdown",
      "metadata": {
        "id": "tRkYA_rOggax"
      },
      "source": [
        "### ¿Cuál(es) es la marca de vacunas más distribuida por continente?"
      ]
    },
    {
      "cell_type": "code",
      "metadata": {
        "colab": {
          "base_uri": "https://localhost:8080/"
        },
        "id": "0zaYvmBH-D4e",
        "outputId": "9b58917a-42b4-4268-d2ef-8c2a8455576e"
      },
      "source": [
        "vac.groupby('continent')['vaccines'].agg(pd.Series.mode) \r\n",
        "\r\n"
      ],
      "execution_count": 127,
      "outputs": [
        {
          "output_type": "execute_result",
          "data": {
            "text/plain": [
              "continent\n",
              "Africa            Oxford/AstraZeneca, Sinopharm/Beijing\n",
              "America                                 Pfizer/BioNTech\n",
              "Asia                                    Pfizer/BioNTech\n",
              "Europe     Moderna, Oxford/AstraZeneca, Pfizer/BioNTech\n",
              "Oceania                                 Pfizer/BioNTech\n",
              "Name: vaccines, dtype: object"
            ]
          },
          "metadata": {
            "tags": []
          },
          "execution_count": 127
        }
      ]
    },
    {
      "cell_type": "markdown",
      "metadata": {
        "id": "2SXSQ4SAglw3"
      },
      "source": [
        "###¿Qué países han adquirido más vacunas por continente? "
      ]
    },
    {
      "cell_type": "code",
      "metadata": {
        "colab": {
          "base_uri": "https://localhost:8080/"
        },
        "id": "dGlhxYKg-TT7",
        "outputId": "2fd5eac1-5a9e-43c5-aa06-48b8063efcd2"
      },
      "source": [
        "vac.groupby(['continent','country'])['total_vaccinations'].agg(pd.Series.max).sort_values(ascending= False) "
      ],
      "execution_count": 128,
      "outputs": [
        {
          "output_type": "execute_result",
          "data": {
            "text/plain": [
              "continent  country            \n",
              "America    United States          72806180\n",
              "Asia       China                  40520000\n",
              "Europe     United Kingdom         20450858\n",
              "           England                17254844\n",
              "Asia       India                  14242547\n",
              "                                    ...   \n",
              "America    Paraguay                   1000\n",
              "Oceania    New Zealand                1000\n",
              "America    Trinidad and Tobago         440\n",
              "           Venezuela                   157\n",
              "Africa     Saint Helena                107\n",
              "Name: total_vaccinations, Length: 112, dtype: int64"
            ]
          },
          "metadata": {
            "tags": []
          },
          "execution_count": 128
        }
      ]
    },
    {
      "cell_type": "markdown",
      "metadata": {
        "id": "PSb_wOp8gxGu"
      },
      "source": [
        "###¿Cuál es la cantidad total de gente completamente vacunada en el mundo?"
      ]
    },
    {
      "cell_type": "code",
      "metadata": {
        "colab": {
          "base_uri": "https://localhost:8080/"
        },
        "id": "atRGMIGs1U1v",
        "outputId": "1ff2dc3e-8ed3-4c69-9357-3c56d936e50c"
      },
      "source": [
        "vac.groupby(['continent','country'])['people_fully_vaccinated'].agg(pd.Series.max).sum()\r\n"
      ],
      "execution_count": 131,
      "outputs": [
        {
          "output_type": "execute_result",
          "data": {
            "text/plain": [
              "52872414"
            ]
          },
          "metadata": {
            "tags": []
          },
          "execution_count": 131
        }
      ]
    },
    {
      "cell_type": "markdown",
      "metadata": {
        "id": "Z1ZabvM3wgnE"
      },
      "source": [
        "###¿Qué porcentaje de la población mundial esta completamente vacunada?"
      ]
    },
    {
      "cell_type": "code",
      "metadata": {
        "colab": {
          "base_uri": "https://localhost:8080/"
        },
        "id": "dS7mIKfwvtxI",
        "outputId": "69796357-c4ad-449a-d4b8-0357fbff1208"
      },
      "source": [
        "#Según la página data.worldbank.org hay 7673533974 personas en el mundo, entonces:\r\n",
        "pcv = (vac.groupby(['continent','country'])['people_fully_vaccinated'].agg(pd.Series.max).sum()/7673533974)*100\r\n",
        "print(\"El porcentaje de población mundial completamente vacunado es del\", pcv,\"%\")"
      ],
      "execution_count": 135,
      "outputs": [
        {
          "output_type": "stream",
          "text": [
            "El porcentaje de población mundial completamente vacunado es del 0.6890230000824389 %\n"
          ],
          "name": "stdout"
        }
      ]
    },
    {
      "cell_type": "markdown",
      "metadata": {
        "id": "Db1O5Xpyg4Iu"
      },
      "source": [
        "###¿Qué país administra más dosis en un día por continente?"
      ]
    },
    {
      "cell_type": "code",
      "metadata": {
        "colab": {
          "base_uri": "https://localhost:8080/"
        },
        "id": "-HGw91lwrw5y",
        "outputId": "632b2f92-feba-4d29-9b51-b96b9f355b00"
      },
      "source": [
        "vac.groupby(['continent','country'])['daily_vaccinations'].agg(pd.Series.max).sort_values(ascending= False) "
      ],
      "execution_count": 137,
      "outputs": [
        {
          "output_type": "execute_result",
          "data": {
            "text/plain": [
              "continent  country            \n",
              "Asia       China                  1916190\n",
              "America    United States          1716311\n",
              "Asia       India                   486318\n",
              "Europe     United Kingdom          445204\n",
              "           Turkey                  435596\n",
              "                                   ...   \n",
              "           Andorra                    100\n",
              "America    Trinidad and Tobago         63\n",
              "           Venezuela                   31\n",
              "Africa     Saint Helena                 0\n",
              "America    Greenland                    0\n",
              "Name: daily_vaccinations, Length: 112, dtype: int64"
            ]
          },
          "metadata": {
            "tags": []
          },
          "execution_count": 137
        }
      ]
    },
    {
      "cell_type": "markdown",
      "metadata": {
        "id": "HWv-fvGzcUDX"
      },
      "source": [
        "# <font color=orange>Técnicas de procesamiento de datos (Postwork 7)</font>"
      ]
    },
    {
      "cell_type": "markdown",
      "metadata": {
        "id": "WuKI-EoMlaVb"
      },
      "source": [
        "## Checa que todos tus datos tengan el tipo de dato correcto. Si no es así, usa casting para convertir tus datos al tipo de dato correcto."
      ]
    },
    {
      "cell_type": "markdown",
      "metadata": {
        "id": "M70JWIF1jsX-"
      },
      "source": [
        "[Tipos de datos](https://colab.research.google.com/drive/1ES-r0jpAcXLwZx0hhDzGXxpz2MfxvpE8?authuser=1#scrollTo=IWYAXQKgbaOW&line=4&uniqifier=1) (convertidos anteriormente para tener enteros)\r\n"
      ]
    },
    {
      "cell_type": "code",
      "metadata": {
        "id": "Zmf89zrGj9el",
        "colab": {
          "base_uri": "https://localhost:8080/"
        },
        "outputId": "9979fb74-8512-41fb-ecb3-abce30ad5d0b"
      },
      "source": [
        "# Se cambia date de objet a datetime\r\n",
        "\r\n",
        "fecha_conversion = {\r\n",
        "    'date': 'datetime64[ns]'\r\n",
        "}\r\n",
        "vac = vac.astype(fecha_conversion)\r\n",
        "\r\n",
        "vac.dtypes"
      ],
      "execution_count": 136,
      "outputs": [
        {
          "output_type": "execute_result",
          "data": {
            "text/plain": [
              "country                                        object\n",
              "continent                                      object\n",
              "date                                   datetime64[ns]\n",
              "total_vaccinations                              int64\n",
              "people_vaccinated                               int64\n",
              "people_fully_vaccinated                         int64\n",
              "daily_vaccinations                              int64\n",
              "total_vaccinations_per_hundred                float64\n",
              "people_vaccinated_per_hundred                 float64\n",
              "people_fully_vaccinated_per_hundred           float64\n",
              "daily_vaccinations_per_million                  int64\n",
              "vaccines                                       object\n",
              "dtype: object"
            ]
          },
          "metadata": {
            "tags": []
          },
          "execution_count": 136
        }
      ]
    },
    {
      "cell_type": "markdown",
      "metadata": {
        "id": "EUZHticytcKw"
      },
      "source": [
        "##Con el fin de responder algunas de las preguntas que te planteaste acerca de tu dataset, usa filtros y sorting para crear nuevos subconjuntos y reordenamientos que sean más adecuados para responder tus preguntas."
      ]
    },
    {
      "cell_type": "markdown",
      "metadata": {
        "id": "cBMbFpDx1QO6"
      },
      "source": [
        "### ¿Qué cantidad de personas a nivel mundial ha recibido al menos una dosis de la vacuna?"
      ]
    },
    {
      "cell_type": "code",
      "metadata": {
        "colab": {
          "base_uri": "https://localhost:8080/"
        },
        "id": "lpUWnZkasVu7",
        "outputId": "2b1683b8-0546-45d7-bf93-2a29a980714e"
      },
      "source": [
        "vcud = vac.groupby(['continent','country'])['people_vaccinated'].agg(pd.Series.max).sum() \r\n",
        "vcud"
      ],
      "execution_count": 148,
      "outputs": [
        {
          "output_type": "execute_result",
          "data": {
            "text/plain": [
              "162582020"
            ]
          },
          "metadata": {
            "tags": []
          },
          "execution_count": 148
        }
      ]
    },
    {
      "cell_type": "markdown",
      "metadata": {
        "id": "owx8EV_F2h4k"
      },
      "source": [
        "### ¿Qué porcentaje de personas a nivel mundial ha recibido al menos una dosis de la vacuna?"
      ]
    },
    {
      "cell_type": "code",
      "metadata": {
        "colab": {
          "base_uri": "https://localhost:8080/"
        },
        "id": "0w13oCGRzHr4",
        "outputId": "37de46b4-8ff8-4f94-d4ed-d56cca34e685"
      },
      "source": [
        "vcud = (vcud/7673533974)*100\r\n",
        "print(\"El porcentaje de población mundial parcialmente vacunado es del\",vcud,\"%\")"
      ],
      "execution_count": 149,
      "outputs": [
        {
          "output_type": "stream",
          "text": [
            "El porcentaje de población mundial parcialmente vacunado es del 2.1187372148331094 %\n"
          ],
          "name": "stdout"
        }
      ]
    },
    {
      "cell_type": "markdown",
      "metadata": {
        "id": "98Ux0o3zOzkr"
      },
      "source": [
        "### Vacunas por cada 100 personas por continente"
      ]
    },
    {
      "cell_type": "code",
      "metadata": {
        "colab": {
          "base_uri": "https://localhost:8080/"
        },
        "id": "RpzI9RmcHREK",
        "outputId": "91a3132c-dd46-4f97-ab82-2727c7923c82"
      },
      "source": [
        "vac.groupby(['continent'])['total_vaccinations_per_hundred'].agg(pd.Series.max) "
      ],
      "execution_count": 139,
      "outputs": [
        {
          "output_type": "execute_result",
          "data": {
            "text/plain": [
              "continent\n",
              "Africa      76.36\n",
              "America     43.50\n",
              "Asia        92.46\n",
              "Europe     106.53\n",
              "Oceania      0.10\n",
              "Name: total_vaccinations_per_hundred, dtype: float64"
            ]
          },
          "metadata": {
            "tags": []
          },
          "execution_count": 139
        }
      ]
    },
    {
      "cell_type": "markdown",
      "metadata": {
        "id": "hx5X-8Y1Rp36"
      },
      "source": [
        "# <font color=orange>Predicción / Inferencia (Postwork 8)</font>"
      ]
    },
    {
      "cell_type": "markdown",
      "metadata": {
        "id": "q3teqfdHVj_X"
      },
      "source": [
        "Lista de planes a futuro\r\n",
        "* Observar la relación del poder adquisitivo de cada país con el progreso de la vacunación\r\n",
        "* La demanda de cada marca de vacunas depende de su efectividad o de su costo\r\n",
        "* Países con mejores sistemas de vacunación\r\n",
        "\r\n"
      ]
    }
  ]
}